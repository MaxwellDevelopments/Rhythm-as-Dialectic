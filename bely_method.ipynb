{
 "cells": [
  {
   "cell_type": "code",
   "execution_count": 1,
   "metadata": {},
   "outputs": [],
   "source": [
    "from bely_method import compute_contrasts, avgs_to_excel, made_plot_excel\n",
    "from pathlib import Path\n",
    "import re\n",
    "import pandas as pd"
   ]
  },
  {
   "cell_type": "code",
   "execution_count": 2,
   "metadata": {},
   "outputs": [],
   "source": [
    "directory_input_data = 'sample_input_data'\n",
    "directory_output_data = 'sample_output_data'\n",
    "f_in = \"fontan.txt\"\n",
    "f_out = \"out_1.txt\"\n",
    "in_path = Path(directory_input_data, f_in)\n",
    "out_path = Path(directory_output_data, f_out)"
   ]
  },
  {
   "cell_type": "code",
   "execution_count": 3,
   "metadata": {},
   "outputs": [
    {
     "data": {
      "text/plain": [
       "'Done'"
      ]
     },
     "execution_count": 3,
     "metadata": {},
     "output_type": "execute_result"
    }
   ],
   "source": [
    "compute_contrasts(in_path, out_path)"
   ]
  },
  {
   "cell_type": "code",
   "execution_count": 4,
   "metadata": {},
   "outputs": [],
   "source": [
    "directory = \"excels\"\n",
    "exc_avg = 'avgs.xlsx'\n",
    "exc_out = 'excel_plot.xlsx'\n",
    "plot_path = Path(directory, exc_out)\n",
    "avg_path = Path(directory, exc_avg)"
   ]
  },
  {
   "cell_type": "code",
   "execution_count": 5,
   "metadata": {},
   "outputs": [],
   "source": [
    "avgs_to_excel(out_path, avg_path)"
   ]
  },
  {
   "cell_type": "code",
   "execution_count": 6,
   "metadata": {},
   "outputs": [],
   "source": [
    "made_plot_excel(out_path, plot_path)"
   ]
  },
  {
   "cell_type": "code",
   "execution_count": 7,
   "metadata": {},
   "outputs": [],
   "source": [
    "contrasts = []\n",
    "forms = []\n",
    "with open(Path('sample_output_data', 'out_1.txt'), 'r', encoding='utf-8') as fin:\n",
    "    for line in fin:\n",
    "        match = re.search(r\"Form (\\d+).*Contrast's value: (\\d+\\.\\d+)\", line)\n",
    "        if match:\n",
    "            form = int(match.group(1))\n",
    "            if form == 12:\n",
    "                continue\n",
    "            forms.append(form)\n",
    "            contrasts.append(float(match.group(2)))\n",
    "df = pd.DataFrame({'forms': forms, 'contrasts': contrasts})"
   ]
  },
  {
   "cell_type": "code",
   "execution_count": 10,
   "metadata": {},
   "outputs": [
    {
     "data": {
      "text/plain": [
       "forms  contrasts\n",
       "4      0.200        142\n",
       "       0.500         64\n",
       "1      0.500         38\n",
       "       0.200         36\n",
       "4      0.667         30\n",
       "3      1.000         30\n",
       "4      0.750         28\n",
       "6      1.000         23\n",
       "1      0.667         21\n",
       "2      1.000         20\n",
       "1      0.750         17\n",
       "       1.000         14\n",
       "4      0.800         12\n",
       "1      0.833         10\n",
       "3      0.500          9\n",
       "1      0.800          8\n",
       "4      0.833          7\n",
       "       0.857          7\n",
       "3      0.667          5\n",
       "1      0.889          5\n",
       "       0.857          5\n",
       "6      0.500          4\n",
       "3      0.875          4\n",
       "1      0.875          4\n",
       "3      0.800          4\n",
       "       0.200          4\n",
       "       0.889          2\n",
       "       0.857          2\n",
       "6      0.889          2\n",
       "       0.800          2\n",
       "       0.750          2\n",
       "       0.667          2\n",
       "       0.200          2\n",
       "4      1.000          2\n",
       "2      0.750          2\n",
       "3      0.750          2\n",
       "7      1.000          2\n",
       "2      0.500          1\n",
       "       0.667          1\n",
       "6      0.857          1\n",
       "       0.875          1\n",
       "3      0.833          1\n",
       "Name: count, dtype: int64"
      ]
     },
     "execution_count": 10,
     "metadata": {},
     "output_type": "execute_result"
    }
   ],
   "source": [
    "df.describe()\n",
    "df.value_counts()"
   ]
  }
 ],
 "metadata": {
  "kernelspec": {
   "display_name": "Python 3.11.0 64-bit",
   "language": "python",
   "name": "python3"
  },
  "language_info": {
   "codemirror_mode": {
    "name": "ipython",
    "version": 3
   },
   "file_extension": ".py",
   "mimetype": "text/x-python",
   "name": "python",
   "nbconvert_exporter": "python",
   "pygments_lexer": "ipython3",
   "version": "3.11.0"
  },
  "orig_nbformat": 4,
  "vscode": {
   "interpreter": {
    "hash": "f4d30d70de91246f020ee0322b560f9b85b1fc922d5e12a7de22d6714340bc98"
   }
  }
 },
 "nbformat": 4,
 "nbformat_minor": 2
}
