{
 "cells": [
  {
   "cell_type": "code",
   "execution_count": 9,
   "metadata": {},
   "outputs": [],
   "source": [
    "from bely_method import compute_contrasts, avgs_to_excel, made_plot_excel\n",
    "from pathlib import Path\n",
    "import re\n",
    "import pandas as pd"
   ]
  },
  {
   "cell_type": "code",
   "execution_count": 10,
   "metadata": {},
   "outputs": [],
   "source": [
    "directory_input_data = 'sample_input_data'\n",
    "directory_output_data = 'sample_output_data'\n",
    "f_in = \"big_text_idk.txt\"\n",
    "f_out = \"out_1.txt\"\n",
    "in_path = Path(directory_input_data, f_in)\n",
    "out_path = Path(directory_output_data, f_out)"
   ]
  },
  {
   "cell_type": "code",
   "execution_count": 11,
   "metadata": {},
   "outputs": [
    {
     "data": {
      "text/plain": [
       "'Done'"
      ]
     },
     "execution_count": 11,
     "metadata": {},
     "output_type": "execute_result"
    }
   ],
   "source": [
    "compute_contrasts(in_path, out_path)"
   ]
  },
  {
   "cell_type": "code",
   "execution_count": 12,
   "metadata": {},
   "outputs": [],
   "source": [
    "directory = \"excels\"\n",
    "exc_avg = 'avgs.xlsx'\n",
    "exc_out = 'excel_plot.xlsx'\n",
    "plot_path = Path(directory, exc_out)\n",
    "avg_path = Path(directory, exc_avg)"
   ]
  },
  {
   "cell_type": "code",
   "execution_count": 13,
   "metadata": {},
   "outputs": [],
   "source": [
    "avgs_to_excel(out_path, avg_path)"
   ]
  },
  {
   "cell_type": "code",
   "execution_count": 14,
   "metadata": {},
   "outputs": [],
   "source": [
    "made_plot_excel(out_path, plot_path)"
   ]
  },
  {
   "cell_type": "code",
   "execution_count": 15,
   "metadata": {},
   "outputs": [],
   "source": [
    "contrasts = []\n",
    "forms = []\n",
    "with open(Path('sample_output_data', 'out_1.txt'), 'r', encoding='utf-8') as fin:\n",
    "    for line in fin:\n",
    "        match = re.search(r\"Form (\\d+).*Contrast's value: (\\d+\\.\\d+)\", line)\n",
    "        if match:\n",
    "            form = int(match.group(1))\n",
    "            if form == 12:\n",
    "                continue\n",
    "            forms.append(form)\n",
    "            contrasts.append(float(match.group(2)))\n",
    "df = pd.DataFrame({'forms': forms, 'contrasts': contrasts})"
   ]
  },
  {
   "cell_type": "code",
   "execution_count": 16,
   "metadata": {},
   "outputs": [
    {
     "data": {
      "text/html": [
       "<div>\n",
       "<style scoped>\n",
       "    .dataframe tbody tr th:only-of-type {\n",
       "        vertical-align: middle;\n",
       "    }\n",
       "\n",
       "    .dataframe tbody tr th {\n",
       "        vertical-align: top;\n",
       "    }\n",
       "\n",
       "    .dataframe thead th {\n",
       "        text-align: right;\n",
       "    }\n",
       "</style>\n",
       "<table border=\"1\" class=\"dataframe\">\n",
       "  <thead>\n",
       "    <tr style=\"text-align: right;\">\n",
       "      <th></th>\n",
       "      <th>forms</th>\n",
       "      <th>contrasts</th>\n",
       "    </tr>\n",
       "  </thead>\n",
       "  <tbody>\n",
       "    <tr>\n",
       "      <th>count</th>\n",
       "      <td>1189.000000</td>\n",
       "      <td>1189.000000</td>\n",
       "    </tr>\n",
       "    <tr>\n",
       "      <th>mean</th>\n",
       "      <td>3.182506</td>\n",
       "      <td>0.605918</td>\n",
       "    </tr>\n",
       "    <tr>\n",
       "      <th>std</th>\n",
       "      <td>1.613129</td>\n",
       "      <td>0.303037</td>\n",
       "    </tr>\n",
       "    <tr>\n",
       "      <th>min</th>\n",
       "      <td>1.000000</td>\n",
       "      <td>0.200000</td>\n",
       "    </tr>\n",
       "    <tr>\n",
       "      <th>25%</th>\n",
       "      <td>1.000000</td>\n",
       "      <td>0.200000</td>\n",
       "    </tr>\n",
       "    <tr>\n",
       "      <th>50%</th>\n",
       "      <td>4.000000</td>\n",
       "      <td>0.667000</td>\n",
       "    </tr>\n",
       "    <tr>\n",
       "      <th>75%</th>\n",
       "      <td>4.000000</td>\n",
       "      <td>0.857000</td>\n",
       "    </tr>\n",
       "    <tr>\n",
       "      <th>max</th>\n",
       "      <td>7.000000</td>\n",
       "      <td>1.000000</td>\n",
       "    </tr>\n",
       "  </tbody>\n",
       "</table>\n",
       "</div>"
      ],
      "text/plain": [
       "             forms    contrasts\n",
       "count  1189.000000  1189.000000\n",
       "mean      3.182506     0.605918\n",
       "std       1.613129     0.303037\n",
       "min       1.000000     0.200000\n",
       "25%       1.000000     0.200000\n",
       "50%       4.000000     0.667000\n",
       "75%       4.000000     0.857000\n",
       "max       7.000000     1.000000"
      ]
     },
     "execution_count": 16,
     "metadata": {},
     "output_type": "execute_result"
    }
   ],
   "source": [
    "df.describe()"
   ]
  }
 ],
 "metadata": {
  "kernelspec": {
   "display_name": "Python 3.11.0 64-bit",
   "language": "python",
   "name": "python3"
  },
  "language_info": {
   "codemirror_mode": {
    "name": "ipython",
    "version": 3
   },
   "file_extension": ".py",
   "mimetype": "text/x-python",
   "name": "python",
   "nbconvert_exporter": "python",
   "pygments_lexer": "ipython3",
   "version": "3.11.0"
  },
  "orig_nbformat": 4,
  "vscode": {
   "interpreter": {
    "hash": "f4d30d70de91246f020ee0322b560f9b85b1fc922d5e12a7de22d6714340bc98"
   }
  }
 },
 "nbformat": 4,
 "nbformat_minor": 2
}
